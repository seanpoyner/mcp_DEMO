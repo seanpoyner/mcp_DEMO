{
 "cells": [
  {
   "cell_type": "code",
   "execution_count": null,
   "id": "04ea72a0",
   "metadata": {},
   "outputs": [],
   "source": [
    "!pip install --quiet --upgrade pip\n",
    "!pip install --quiet ipykernel jupyter mcp"
   ]
  },
  {
   "cell_type": "code",
   "execution_count": 4,
   "id": "e6f64814",
   "metadata": {},
   "outputs": [],
   "source": [
    "from mcp.server.fastmcp import FastMCP"
   ]
  },
  {
   "cell_type": "code",
   "execution_count": 5,
   "id": "149b779a",
   "metadata": {},
   "outputs": [],
   "source": [
    "mcp = FastMCP(\"Weather Service\")"
   ]
  },
  {
   "cell_type": "code",
   "execution_count": null,
   "id": "10fe92fd",
   "metadata": {},
   "outputs": [],
   "source": [
    "@mcp.tool()\n",
    "def get_weather(location: str) -> str:\n",
    "    \"\"\"Get the current weather for a given location.\"\"\"\n",
    "    # Simulated response for demonstration purposes\n",
    "    return f\"The current weather in {location}: Sunny, 72°F.\""
   ]
  },
  {
   "cell_type": "code",
   "execution_count": 8,
   "id": "4bd770c7",
   "metadata": {},
   "outputs": [],
   "source": [
    "@mcp.resource(\"weather://{location}\")\n",
    "def weather_resource(location: str) -> str:\n",
    "    \"\"\"Provide the weather data as a resource\"\"\"\n",
    "    return f\"The current weather in {location}: Sunny, 72°F.\""
   ]
  },
  {
   "cell_type": "code",
   "execution_count": 9,
   "id": "09d6f2b4",
   "metadata": {},
   "outputs": [],
   "source": [
    "@mcp.prompt()\n",
    "def weather_report(location: str) -> str:\n",
    "    \"\"\"Create a weather report prompt.\"\"\"\n",
    "    # Simulated response for demonstration purposes\n",
    "    return f\"You are a weather reporter. Please provide a weather report for {location}.\""
   ]
  },
  {
   "cell_type": "code",
   "execution_count": 10,
   "id": "25975507",
   "metadata": {},
   "outputs": [
    {
     "ename": "TypeError",
     "evalue": "FastMCP.run() got an unexpected keyword argument 'port'",
     "output_type": "error",
     "traceback": [
      "\u001b[31m---------------------------------------------------------------------------\u001b[39m",
      "\u001b[31mTypeError\u001b[39m                                 Traceback (most recent call last)",
      "\u001b[36mCell\u001b[39m\u001b[36m \u001b[39m\u001b[32mIn[10]\u001b[39m\u001b[32m, line 2\u001b[39m\n\u001b[32m      1\u001b[39m \u001b[38;5;28;01mif\u001b[39;00m \u001b[34m__name__\u001b[39m == \u001b[33m\"\u001b[39m\u001b[33m__main__\u001b[39m\u001b[33m\"\u001b[39m:\n\u001b[32m----> \u001b[39m\u001b[32m2\u001b[39m     \u001b[43mmcp\u001b[49m\u001b[43m.\u001b[49m\u001b[43mrun\u001b[49m\u001b[43m(\u001b[49m\u001b[43mtransport\u001b[49m\u001b[43m=\u001b[49m\u001b[33;43m\"\u001b[39;49m\u001b[33;43msse\u001b[39;49m\u001b[33;43m\"\u001b[39;49m\u001b[43m,\u001b[49m\u001b[43m \u001b[49m\u001b[43mport\u001b[49m\u001b[43m=\u001b[49m\u001b[32;43m3002\u001b[39;49m\u001b[43m)\u001b[49m\n",
      "\u001b[31mTypeError\u001b[39m: FastMCP.run() got an unexpected keyword argument 'port'"
     ]
    }
   ],
   "source": [
    "if __name__ == \"__main__\":\n",
    "    mcp.run(transport=\"sse\", port=3002)"
   ]
  }
 ],
 "metadata": {
  "kernelspec": {
   "display_name": ".venv",
   "language": "python",
   "name": "python3"
  },
  "language_info": {
   "codemirror_mode": {
    "name": "ipython",
    "version": 3
   },
   "file_extension": ".py",
   "mimetype": "text/x-python",
   "name": "python",
   "nbconvert_exporter": "python",
   "pygments_lexer": "ipython3",
   "version": "3.12.3"
  }
 },
 "nbformat": 4,
 "nbformat_minor": 5
}
